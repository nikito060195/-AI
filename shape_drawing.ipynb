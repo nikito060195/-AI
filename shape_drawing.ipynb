{
  "nbformat": 4,
  "nbformat_minor": 0,
  "metadata": {
    "colab": {
      "provenance": []
    },
    "kernelspec": {
      "name": "python3",
      "display_name": "Python 3"
    },
    "language_info": {
      "name": "python"
    }
  },
  "cells": [
    {
      "cell_type": "code",
      "execution_count": null,
      "metadata": {
        "id": "IW8x8HapCViU"
      },
      "outputs": [],
      "source": [
        "%%capture\n",
        "#!pip install matplotlib --upgrade\n",
        "import matplotlib.pyplot as plt\n",
        "import numpy as np\n",
        "import random\n",
        "from PIL import Image\n",
        "import matplotlib.image as mpimg"
      ]
    },
    {
      "cell_type": "code",
      "source": [
        "def rgb2gray(rgb):\n",
        "    return np.dot(rgb[...,:3], [0.2989, 0.5870, 0.1140])\n"
      ],
      "metadata": {
        "id": "QR2fgC5dA6-f"
      },
      "execution_count": null,
      "outputs": []
    },
    {
      "cell_type": "code",
      "source": [
        "def fig2img(fig):\n",
        "    \"\"\"Convert a Matplotlib figure to a PIL Image and return it\"\"\"\n",
        "    import io\n",
        "    buf = io.BytesIO()\n",
        "    fig.savefig(buf)\n",
        "    buf.seek(0)\n",
        "    img = mpimg.imread(buf)\n",
        "    return img"
      ],
      "metadata": {
        "id": "Apxv2yxGcVqQ"
      },
      "execution_count": null,
      "outputs": []
    },
    {
      "cell_type": "code",
      "source": [
        "def ellipse(a,b,cx,cy):\n",
        "  x = []\n",
        "  y = []\n",
        "  for t in np.arange(0, 2 * np.pi , 0.01):\n",
        "    x.append(a * np.cos(t) + cx)\n",
        "    y.append(b * np.sin(t) + cy)\n",
        "\n",
        "  return x, y"
      ],
      "metadata": {
        "id": "kSbwO8Hh_Vr9"
      },
      "execution_count": null,
      "outputs": []
    },
    {
      "cell_type": "code",
      "source": [
        "def color():\n",
        "  np.random.seed(19680801)\n",
        "\n",
        "  gray = random.randint(0, 255)\n",
        "\n",
        "  return gray/255, gray/255, gray/255"
      ],
      "metadata": {
        "id": "a-wGa9l8GXLn"
      },
      "execution_count": null,
      "outputs": []
    },
    {
      "cell_type": "code",
      "source": [
        "np.random.seed(19680801)\n",
        "sy = random.uniform(-2, 3) #random displacement in y\n",
        "\n",
        "yd = 0 #exated distance between the center of the ellipse and the rectangle\n",
        "\n",
        "a = 3; b = 3; cx = random.uniform(-0.5, 0.5); cy = -2 + sy\n",
        "\n",
        "x, y = ellipse(a, b, cx, cy)\n",
        "\n",
        "#plt.style.use('grayscale')\n",
        "\n",
        "sizex = 6.6666666667 * 1.33333334\n",
        "sizey = sizex\n",
        "\n",
        "fig, ax1 = plt.subplots(figsize=(sizex,sizey))\n",
        "\n",
        "R1, G1, B1 = color()\n",
        "\n",
        "#print(R1, G1, B1)\n",
        "fig.set_facecolor('black')\n",
        "\n",
        "ax1.axis('off')\n",
        "\n",
        "ax1.fill_between(x, y,y2 = cy,color=[(R1,G1,B1)])\n",
        "ax1.fill_between([-5,5],-5,y2 = cy + yd, color='black')\n",
        "\n",
        "ax1.set_xlim([-5,5])\n",
        "ax1.set_ylim([-5,5])\n",
        "\n",
        "img = fig2img(fig)\n",
        "\n",
        "gray = rgb2gray(img)\n",
        "\n",
        "gray.shape"
      ],
      "metadata": {
        "colab": {
          "base_uri": "https://localhost:8080/",
          "height": 531
        },
        "id": "PmsMxRwBC7mU",
        "outputId": "bae11466-fa68-4d4b-95af-7420a16c0b47"
      },
      "execution_count": null,
      "outputs": [
        {
          "output_type": "execute_result",
          "data": {
            "text/plain": [
              "(640, 640)"
            ]
          },
          "metadata": {},
          "execution_count": 11
        },
        {
          "output_type": "display_data",
          "data": {
            "text/plain": [
              "<Figure size 640x640 with 1 Axes>"
            ],
            "image/png": "[encoded data removed]"
          },
          "metadata": {}
        }
      ]
    },
    {
      "cell_type": "code",
      "source": [
        "file = open(str(a)+\"_\"+str(b)+\"_\"+str(yd)+\".txt\", \"w+\")\n",
        "#str_gray = str(gray)\n",
        "np.savetxt(file,gray,comments='')\n",
        "file.close()"
      ],
      "metadata": {
        "id": "p--TNuR1eB-K"
      },
      "execution_count": null,
      "outputs": []
    }
  ]
}