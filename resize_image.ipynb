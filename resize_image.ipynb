{
  "cells": [
    {
      "cell_type": "code",
      "execution_count": null,
      "metadata": {
        "id": "QrphSRgFAY2M"
      },
      "outputs": [],
      "source": [
        "%%capture\n",
        "from PIL import Image\n",
        "import numpy as np\n",
        "import matplotlib.pyplot as plt\n",
        "import matplotlib.image as mpimg\n",
        "\"\"\"!pip install rembg\n",
        "!pip install rembg[gpu]\n",
        "!pip install opencv-python\n",
        "from rembg import remove\n",
        "import cv2\"\"\""
      ]
    },
    {
      "cell_type": "code",
      "source": [
        "def fig2img(fig):\n",
        "    \"\"\"Convert a Matplotlib figure to a PIL Image and return it\"\"\"\n",
        "    import io\n",
        "    buf = io.BytesIO()\n",
        "    fig.savefig(buf)\n",
        "    buf.seek(0)\n",
        "    img = mpimg.imread(buf)\n",
        "    return img"
      ],
      "metadata": {
        "id": "Apxv2yxGcVqQ"
      },
      "execution_count": null,
      "outputs": []
    },
    {
      "cell_type": "code",
      "execution_count": null,
      "metadata": {
        "id": "mcFg-8ynXvd_"
      },
      "outputs": [],
      "source": [
        "def rem_back(suf):\n",
        "  from rembg import remove\n",
        "  import cv2\n",
        "\n",
        "  image = Image.open(suf+'.png')\n",
        "  #image = cv2.imread(im)\n",
        "  width, height = image.size\n",
        "  print(image.size)\n",
        "  fracW = width / 6\n",
        "\n",
        "  left = fracW\n",
        "  right = 5 * fracW\n",
        "  bottom = height\n",
        "  top = height - (right - left)\n",
        "\n",
        "  # Cropped image of above dimension\n",
        "  # (It will not change original image)\n",
        "  im1 = image.crop((left, top, right, bottom))\n",
        "\n",
        "  new_image = im1.resize((640, 640))\n",
        "  new_image = np.asarray(new_image)\n",
        "  #new_image = rgb2gray(new_image)\n",
        "\n",
        "  #im = np.array(im, dtype=np.uint8)\n",
        "  #img = Image.fromarray(im)\n",
        "   #im = np.array(im, dtype=np.uint8)\n",
        "  result = remove(new_image) # Removing the background\n",
        "  #a = np.asarray(result)\n",
        "  #gray = rgb2gray(result)\n",
        "  bgr = result[:,:,:3] # Channels 0..2\n",
        "  gray = cv2.cvtColor(bgr, cv2.COLOR_BGR2GRAY)\n",
        "  bgr = cv2.cvtColor(gray, cv2.COLOR_GRAY2BGR)\n",
        "  alpha = result[:,:,3] # Channel 3\n",
        "  result_bgr = np.dstack([bgr, alpha]) # Add the alpha channel\n",
        "\n",
        "  cv2.imwrite('rm.png', result_bgr)\n",
        "\n",
        "  return result_bgr"
      ]
    },
    {
      "cell_type": "code",
      "source": [
        "  %%capture\n",
        "  !pip install rembg\n",
        "  !pip install rembg[gpu]\n",
        "  !pip install opencv-python"
      ],
      "metadata": {
        "id": "LNjR9V67kToo"
      },
      "execution_count": null,
      "outputs": []
    },
    {
      "cell_type": "code",
      "source": [
        "suf = 'im2'\n",
        "im_w_back = rem_back(suf)\n"
      ],
      "metadata": {
        "colab": {
          "base_uri": "https://localhost:8080/"
        },
        "id": "cAVxfVGrlr7s",
        "outputId": "812aead3-e91c-4231-c712-67defdf31f9b"
      },
      "execution_count": null,
      "outputs": [
        {
          "output_type": "stream",
          "name": "stdout",
          "text": [
            "(2000, 1500)\n"
          ]
        }
      ]
    },
    {
      "cell_type": "code",
      "source": [
        "!pip uninstall --no-input rembg\n",
        "!pip uninstall --no-input rembg[gpu]\n",
        "!pip uninstall --no-input opencv-python"
      ],
      "metadata": {
        "id": "Tu_QranRo7Mv",
        "colab": {
          "base_uri": "https://localhost:8080/"
        },
        "outputId": "c0e0be02-59e8-4be5-9bed-a1114490c7ed"
      },
      "execution_count": null,
      "outputs": [
        {
          "output_type": "stream",
          "name": "stdout",
          "text": [
            "\u001b[33mWARNING: Skipping rembg as it is not installed.\u001b[0m\n",
            "\u001b[33mWARNING: Skipping rembg as it is not installed.\u001b[0m\n",
            "\u001b[33mWARNING: Skipping opencv-python as it is not installed.\u001b[0m\n"
          ]
        }
      ]
    },
    {
      "cell_type": "code",
      "source": [
        "sizex = 6.6666666667 * 1.33333334\n",
        "sizey = sizex\n",
        "\n",
        "fig, ax1 = plt.subplots(figsize=(sizex,sizey))\n",
        "fig.set_facecolor('black')\n",
        "ax1.axis('off')\n",
        "ax1.imshow(im_w_back, cmap=plt.get_cmap('gray'))\n",
        "\n",
        "print(im_w_back.shape)\n",
        "\n",
        "im_trans = im_w_back.transpose(2,0,1)\n",
        "im_new_shape = im_trans.reshape(640,-1)"
      ],
      "metadata": {
        "id": "rve1PUUVXMXf",
        "colab": {
          "base_uri": "https://localhost:8080/",
          "height": 531
        },
        "outputId": "5635ee5f-2781-4dc9-9c21-ef0ede9fe981"
      },
      "execution_count": null,
      "outputs": [
        {
          "output_type": "stream",
          "name": "stdout",
          "text": [
            "(640, 640, 4)\n"
          ]
        },
        {
          "output_type": "display_data",
          "data": {
            "text/plain": [
              "<Figure size 640x640 with 1 Axes>"
            ],
            "image/png": "[encoded data removed]"
          },
          "metadata": {}
        }
      ]
    },
    {
      "cell_type": "code",
      "execution_count": null,
      "metadata": {
        "id": "Kd01zq723JgT"
      },
      "outputs": [],
      "source": [
        "file = open(suf+\".txt\", \"w+\")\n",
        "np.savetxt(file,np.asarray(im_new_shape),comments='')\n",
        "file.close()"
      ]
    },
    {
      "cell_type": "code",
      "source": [
        "with open(suf+\".txt\", 'w') as outfile:\n",
        "    # I'm writing a header here just for the sake of readability\n",
        "    # Any line starting with \"#\" will be ignored by numpy.loadtxt\n",
        "    outfile.write('# Array shape: {0}\\n'.format(im_w_back.shape))\n",
        "\n",
        "    # Iterating through a ndimensional array produces slices along\n",
        "    # the last axis. This is equivalent to data[i,:,:] in this case\n",
        "    for data_slice in im_w_back:\n",
        "\n",
        "        # The formatting string indicates that I'm writing out\n",
        "        # the values in left-justified columns 7 characters in width\n",
        "        # with 2 decimal places.\n",
        "        np.savetxt(outfile, data_slice, fmt='%-7.2f')\n",
        "\n",
        "        # Writing out a break to indicate different slices...\n",
        "        outfile.write('# New slice\\n')"
      ],
      "metadata": {
        "id": "7T4ghZt42nHs"
      },
      "execution_count": null,
      "outputs": []
    }
  ],
  "metadata": {
    "accelerator": "GPU",
    "colab": {
      "provenance": []
    },
    "gpuClass": "standard",
    "kernelspec": {
      "display_name": "Python 3",
      "name": "python3"
    },
    "language_info": {
      "name": "python"
    }
  },
  "nbformat": 4,
  "nbformat_minor": 0
}